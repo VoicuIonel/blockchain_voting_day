{
 "cells": [
  {
   "cell_type": "code",
   "execution_count": 1,
   "metadata": {},
   "outputs": [],
   "source": [
    "import pandas as pd\n",
    "import os\n",
    "import psycopg2\n",
    "from pathlib import Path\n",
    "from insert_class import inserare_date\n",
    "import getpass\n"
   ]
  },
  {
   "cell_type": "code",
   "execution_count": null,
   "metadata": {},
   "outputs": [],
   "source": []
  },
  {
   "cell_type": "code",
   "execution_count": 10,
   "metadata": {},
   "outputs": [],
   "source": [
    "dpath = os.getcwd()\n",
    "gdpath = f\"{str(Path(dpath).parents[0])}\\\\2. Generare Date\"\n",
    "ltables = ['staging.ziua_votarii', 'staging.candidati', 'staging.populatie', 'staging.judete']\n",
    "lviews = [\"staging.rezultate_per_judete\"]"
   ]
  },
  {
   "cell_type": "code",
   "execution_count": 3,
   "metadata": {},
   "outputs": [
    {
     "name": "stdin",
     "output_type": "stream",
     "text": [
      "User: postgres\n",
      "Password: ········\n"
     ]
    }
   ],
   "source": [
    "h, d, u, p = \"localhost\", \"staging\", input(\"User:\"), getpass.getpass('Password:')"
   ]
  },
  {
   "cell_type": "code",
   "execution_count": 4,
   "metadata": {},
   "outputs": [],
   "source": [
    "commands_tables = (\n",
    "        \"\"\"CREATE TABLE IF NOT EXISTS STAGING.JUDETE (COD VARCHAR(2) PRIMARY KEY,\n",
    "                                              NUME VARCHAR(25) NOT NULL,\n",
    "                                              POPULATIE INT NOT NULL)\"\"\",\n",
    "        \"\"\"CREATE TABLE IF NOT EXISTS STAGING.POPULATIE (NUME VARCHAR(75) NOT NULL,\n",
    "                                                 ADRESA VARCHAR(75) NOT NULL,\n",
    "                                                 CNP BIGINT PRIMARY KEY,\n",
    "                                                 COD_JUDET VARCHAR(2) NOT NULL)\"\"\",\n",
    "        \"\"\"CREATE TABLE IF NOT EXISTS STAGING.CANDIDATI(serialNbr SERIAL,\n",
    "                                                NUME VARCHAR(25) NOT NULL,\n",
    "                                                PRIMARY KEY (NUME))\"\"\",\n",
    "        \"\"\"CREATE TABLE IF NOT EXISTS STAGING.ZIUA_VOTARII(serialNbr SERIAL,\n",
    "                                                   CNP BIGINT PRIMARY KEY,\n",
    "                                                   VOT VARCHAR(25) NOT NULL,\n",
    "                                                   Ora_Votarii TIMESTAMP WITH TIME ZONE DEFAULT CURRENT_TIMESTAMP)\"\"\")\n",
    "\n",
    "\n",
    "commands_views = \"\"\"create view staging.rezultate_per_judete as \n",
    "                     with \n",
    "                     t1 as (select distinct p.cod_judet, zv.vot , count(*) as rezultat\n",
    "                            from staging.populatie p\n",
    "                            inner join staging.ziua_votarii zv\n",
    "                                on p.cnp = zv.cnp\n",
    "                            group by 1, 2),\n",
    " \n",
    "                     t2 as (select t1.cod_judet, max(t1.rezultat) as rezultat from t1 group by 1),\n",
    " \n",
    "                     t3 as (select t1.cod_judet, t1.vot\n",
    "                            from t1\n",
    "                            inner join t2 on t1.cod_judet = t2.cod_judet and t1.rezultat = t2.rezultat), \n",
    " \n",
    "                     t4 as (select j.cod, j.nume, j.populatie, t3.vot as rezultat\n",
    "                            from staging.judete as j\n",
    "                            left join t3\n",
    "                                on j.cod = t3.cod_judet\n",
    "                            group by 1, 2, 3, 4)\n",
    " \n",
    "                     select * from t4 order by t4.nume asc\"\"\""
   ]
  },
  {
   "cell_type": "code",
   "execution_count": null,
   "metadata": {},
   "outputs": [],
   "source": []
  },
  {
   "cell_type": "code",
   "execution_count": 5,
   "metadata": {},
   "outputs": [],
   "source": [
    "def file_exists(file_name, path=gdpath):\n",
    "    \"\"\"\"\"\"\n",
    "    if os.path.exists(f\"{gdpath}\\\\{file_name}.csv\"):\n",
    "        return pd.read_csv(f\"{gdpath}\\\\{file_name}.csv\")\n",
    "    else:\n",
    "        print(f\"File {file_name}.csv is missing!!!\")\n",
    "    "
   ]
  },
  {
   "cell_type": "code",
   "execution_count": 6,
   "metadata": {},
   "outputs": [],
   "source": [
    "df_judete = file_exists(\"judete\")\n",
    "df_populatie = file_exists(\"populatie\")\n",
    "df_candidati = file_exists(\"candidati\")\n"
   ]
  },
  {
   "cell_type": "code",
   "execution_count": 11,
   "metadata": {},
   "outputs": [
    {
     "name": "stdout",
     "output_type": "stream",
     "text": [
      "Query `drop view  if exists staging.rezultate_per_judete` returned successfully\n",
      "Query `drop table if exists staging.ziua_votarii` returned successfully\n",
      "Query `drop table if exists staging.candidati` returned successfully\n",
      "Query `drop table if exists staging.populatie` returned successfully\n",
      "Query `drop table if exists staging.judete` returned successfully\n",
      "Query `create view staging.rezultate_per_judete as \n",
      "                     with \n",
      "                     t1 as (select distinct p.cod_judet, zv.vot , count(*) as rezultat\n",
      "                            from staging.populatie p\n",
      "                            inner join staging.ziua_votarii zv\n",
      "                                on p.cnp = zv.cnp\n",
      "                            group by 1, 2),\n",
      " \n",
      "                     t2 as (select t1.cod_judet, max(t1.rezultat) as rezultat from t1 group by 1),\n",
      " \n",
      "                     t3 as (select t1.cod_judet, t1.vot\n",
      "                            from t1\n",
      "                            inner join t2 on t1.cod_judet = t2.cod_judet and t1.rezultat = t2.rezultat), \n",
      " \n",
      "                     t4 as (select j.cod, j.nume, j.populatie, t3.vot as rezultat\n",
      "                            from staging.judete as j\n",
      "                            left join t3\n",
      "                                on j.cod = t3.cod_judet\n",
      "                            group by 1, 2, 3, 4)\n",
      " \n",
      "                     select * from t4 order by t4.nume asc` returned successfully\n",
      "Constraint added!!!\n",
      "Constraint added!!!\n",
      "Constraint added!!!\n"
     ]
    }
   ],
   "source": [
    "if __name__ == \"__main__\":\n",
    "\n",
    "    app = inserare_date(h, d, u, p)\n",
    "\n",
    "    for i in lviews:\n",
    "        app.send_query(f\"drop view  if exists {i}\")\n",
    "    for i in ltables:\n",
    "        app.send_query(f\"drop table if exists {i}\")\n",
    "    \n",
    "    app.create_table_view(commands_tables)\n",
    "    app.send_query(commands_views)\n",
    "    \n",
    "    app.create_fk_constrait(\"staging.populatie\", \"cod_judet\", \"staging.judete\", \"cod\")\n",
    "    app.create_fk_constrait(\"staging.ziua_votarii\", \"cnp\", \"staging.populatie\", \"cnp\")\n",
    "    app.create_fk_constrait(\"staging.ziua_votarii\", \"vot\", \"staging.candidati\", \"nume\")\n",
    "    \n",
    "    app.insert_into(df_judete, \"staging.judete\", expand=False)\n",
    "    app.insert_into(df_populatie, \"staging.populatie\", batch_size=200000, expand=False)\n",
    "    app.insert_into(df_candidati, \"staging.candidati\", expand=False)\n",
    "    \n",
    "    \n",
    "\n",
    "    app.con_close()"
   ]
  },
  {
   "cell_type": "code",
   "execution_count": null,
   "metadata": {},
   "outputs": [],
   "source": []
  }
 ],
 "metadata": {
  "kernelspec": {
   "display_name": "Python 3",
   "language": "python",
   "name": "python3"
  },
  "language_info": {
   "codemirror_mode": {
    "name": "ipython",
    "version": 3
   },
   "file_extension": ".py",
   "mimetype": "text/x-python",
   "name": "python",
   "nbconvert_exporter": "python",
   "pygments_lexer": "ipython3",
   "version": "3.8.3"
  }
 },
 "nbformat": 4,
 "nbformat_minor": 4
}
