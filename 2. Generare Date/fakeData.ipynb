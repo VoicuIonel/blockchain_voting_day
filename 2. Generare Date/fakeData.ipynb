{
 "cells": [
  {
   "cell_type": "code",
   "execution_count": null,
   "metadata": {},
   "outputs": [],
   "source": [
    "from faker import Faker\n",
    "import pandas as pd\n",
    "import os\n",
    "pd.set_option('display.float_format', '{:.2f}'.format)\n",
    "\n"
   ]
  },
  {
   "cell_type": "code",
   "execution_count": null,
   "metadata": {},
   "outputs": [],
   "source": [
    "fake = Faker(['ro-RO'])\n",
    "dpath = os.getcwd()"
   ]
  },
  {
   "cell_type": "code",
   "execution_count": null,
   "metadata": {},
   "outputs": [],
   "source": [
    "try:\n",
    "    dfc = pd.read_csv('temp_judete.csv')\n",
    "except Exception as e:\n",
    "    print(e)\n",
    "    \n",
    "df_pop = pd.DataFrame(columns=['Nume', 'Adresa', 'CNP', 'Cod Oras'])"
   ]
  },
  {
   "cell_type": "code",
   "execution_count": null,
   "metadata": {
    "scrolled": true
   },
   "outputs": [],
   "source": [
    "\n",
    "# Populatie\n",
    "for i in range(dfc.shape[0]):\n",
    "    nume, adresa, cnp, cod_oras = [], [], [], []\n",
    "\n",
    "    for j in range(dfc.iloc[i][2]):\n",
    "#         Faker.seed(j) # o sa avem de fiecare data acelasi rezultat\n",
    "\n",
    "        nume.append(fake.name())\n",
    "        adresa.append(fake.address().split('\\n')[0])\n",
    "\n",
    "        y = fake.random_int(0, 99) \n",
    "        m = fake.random_int(1, 12) \n",
    "        d = fake.random_int(1, 31) \n",
    "        r = fake.random_int(0, 999999) \n",
    "\n",
    "        cnp.append(''.join(str(i) for i in [fake.random_int(1,2) if fake.random_int(1900,2099)<2000 else fake.random_int(5,6), \n",
    "                                            f'0{y}' if len(str(y))==1 else y,\n",
    "                                            f'0{m}' if len(str(m))==1 else m,\n",
    "                                            f'0{d}' if len(str(d))==1 else d,\n",
    "                                            str(r).zfill(6) if len(str(r))<6 else r]))\n",
    "    temp_df = temp_df_pop = pd.DataFrame(data={'Nume': nume, 'Adresa': adresa, 'CNP': cnp})\n",
    "    temp_df['Cod Oras'] = dfc.iloc[i][0]\n",
    "\n",
    "    df_pop = pd.concat([df_pop, temp_df])\n",
    "    print(f\"{i}. judet = {dfc.iloc[i][1]} // populatia = {dfc.iloc[i][2]}\")\n",
    "\n",
    "df_pop.drop_duplicates(subset=['CNP'], inplace=True)    \n",
    "df_pop.to_csv(f'{dpath}\\populatie.csv', index=False, encoding='utf-8')\n"
   ]
  },
  {
   "cell_type": "code",
   "execution_count": null,
   "metadata": {
    "scrolled": true
   },
   "outputs": [],
   "source": [
    "# Ne asiguram ca numarul populatiei din tabelul judete coincide cu cel din populatie, \n",
    "# pentru ca exista o mica posibilitate ca cnp-ul generat din populatie sa nu fie unic\n",
    "df_pop_check = df_pop.groupby(by=['Cod Oras']).count()\n",
    "df_pop_check.reset_index(inplace=True)\n",
    "df_pop_check.rename(columns={\"Nume\": \"Populatie\"}, inplace=True)\n",
    "\n",
    "df_judete = dfc.merge(df_pop_check[['Cod Oras', 'Populatie']], left_on='countyCode', right_on=\"Cod Oras\")\n",
    "df_judete = df_judete[['countyCode', 'countyNme', \"Populatie_y\"]]\n",
    "df_judete.rename(columns={'countyCode': \"Cod Oras\",\n",
    "                          \"countyNme\": \"Nume\",\n",
    "                          \"Populatie_y\": \"Populatie\"}, inplace=True)\n",
    "\n",
    "df_judete.to_csv(f'{dpath}\\judete.csv', index=False)"
   ]
  },
  {
   "cell_type": "code",
   "execution_count": null,
   "metadata": {},
   "outputs": [],
   "source": [
    "# candidati\n",
    "lnumdCand = ['BJP', 'INC', 'BSP', 'CMD', 'IPV', 'BIT', 'UTC', 'VOP', 'KLM', 'JAR']\n",
    "lidCand = [1000000001, 1000000002, 1000000003, 1000000004, 1000000005, 1000000006, 1000000007, 1000000008, 1000000009, 1000000010]\n",
    "\n",
    "df_cand = pd.DataFrame(data={'ID': lidCand,'Nume': lnumdCand})\n",
    "df_cand.to_csv(f\"{dpath}\\candidati.csv\", index=False)\n"
   ]
  },
  {
   "cell_type": "code",
   "execution_count": null,
   "metadata": {},
   "outputs": [],
   "source": [
    "# ziua_votului\n",
    "df_vot = pd.DataFrame(columns=['CNP', 'Vot', 'Ora Votarii'])\n",
    "df_vot.to_csv(f\"{dpath}\\\\ziua_votarii.csv\", index=False)\n"
   ]
  },
  {
   "cell_type": "code",
   "execution_count": null,
   "metadata": {},
   "outputs": [],
   "source": [
    "\n"
   ]
  },
  {
   "cell_type": "code",
   "execution_count": null,
   "metadata": {},
   "outputs": [],
   "source": []
  }
 ],
 "metadata": {
  "kernelspec": {
   "display_name": "Python 3",
   "language": "python",
   "name": "python3"
  },
  "language_info": {
   "codemirror_mode": {
    "name": "ipython",
    "version": 3
   },
   "file_extension": ".py",
   "mimetype": "text/x-python",
   "name": "python",
   "nbconvert_exporter": "python",
   "pygments_lexer": "ipython3",
   "version": "3.8.3"
  }
 },
 "nbformat": 4,
 "nbformat_minor": 4
}
